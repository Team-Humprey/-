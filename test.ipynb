{
 "cells": [
  {
   "cell_type": "code",
   "execution_count": 47,
   "metadata": {},
   "outputs": [
    {
     "ename": "IndexError",
     "evalue": "list index out of range",
     "output_type": "error",
     "traceback": [
      "\u001b[0;31m---------------------------------------------------------------------------\u001b[0m",
      "\u001b[0;31mIndexError\u001b[0m                                Traceback (most recent call last)",
      "\u001b[0;32m/var/folders/xv/2d5zz0ls0lddjzncj7dlzlzw0000gn/T/ipykernel_4046/1564148793.py\u001b[0m in \u001b[0;36m<module>\u001b[0;34m\u001b[0m\n\u001b[1;32m     29\u001b[0m     \u001b[0;32mreturn\u001b[0m \u001b[0mmacd_list\u001b[0m\u001b[0;34m\u001b[0m\u001b[0;34m\u001b[0m\u001b[0m\n\u001b[1;32m     30\u001b[0m \u001b[0;34m\u001b[0m\u001b[0m\n\u001b[0;32m---> 31\u001b[0;31m \u001b[0mdf\u001b[0m \u001b[0;34m=\u001b[0m \u001b[0mget_macd\u001b[0m\u001b[0;34m(\u001b[0m\u001b[0mcandle_datas\u001b[0m\u001b[0;34m,\u001b[0m \u001b[0;36m2\u001b[0m\u001b[0;34m)\u001b[0m\u001b[0;34m\u001b[0m\u001b[0;34m\u001b[0m\u001b[0m\n\u001b[0m\u001b[1;32m     32\u001b[0m \u001b[0mplt\u001b[0m\u001b[0;34m.\u001b[0m\u001b[0mplot\u001b[0m\u001b[0;34m(\u001b[0m\u001b[0mdf\u001b[0m\u001b[0;34m)\u001b[0m\u001b[0;34m\u001b[0m\u001b[0;34m\u001b[0m\u001b[0m\n\u001b[1;32m     33\u001b[0m \u001b[0mplt\u001b[0m\u001b[0;34m.\u001b[0m\u001b[0mshow\u001b[0m\u001b[0;34m(\u001b[0m\u001b[0;34m)\u001b[0m\u001b[0;34m\u001b[0m\u001b[0;34m\u001b[0m\u001b[0m\n",
      "\u001b[0;32m/var/folders/xv/2d5zz0ls0lddjzncj7dlzlzw0000gn/T/ipykernel_4046/1564148793.py\u001b[0m in \u001b[0;36mget_macd\u001b[0;34m(candle_datas, loop_cnt)\u001b[0m\n\u001b[1;32m     12\u001b[0m     \u001b[0mmacd_list\u001b[0m \u001b[0;34m=\u001b[0m \u001b[0;34m[\u001b[0m\u001b[0;34m]\u001b[0m\u001b[0;34m\u001b[0m\u001b[0;34m\u001b[0m\u001b[0m\n\u001b[1;32m     13\u001b[0m \u001b[0;34m\u001b[0m\u001b[0m\n\u001b[0;32m---> 14\u001b[0;31m     \u001b[0mdf\u001b[0m \u001b[0;34m=\u001b[0m \u001b[0mpd\u001b[0m\u001b[0;34m.\u001b[0m\u001b[0mDataFrame\u001b[0m\u001b[0;34m(\u001b[0m\u001b[0mcandle_datas\u001b[0m\u001b[0;34m[\u001b[0m\u001b[0;36m0\u001b[0m\u001b[0;34m]\u001b[0m\u001b[0;34m)\u001b[0m\u001b[0;34m\u001b[0m\u001b[0;34m\u001b[0m\u001b[0m\n\u001b[0m\u001b[1;32m     15\u001b[0m     \u001b[0mdf\u001b[0m \u001b[0;34m=\u001b[0m \u001b[0mdf\u001b[0m\u001b[0;34m.\u001b[0m\u001b[0miloc\u001b[0m\u001b[0;34m[\u001b[0m\u001b[0;34m:\u001b[0m\u001b[0;34m:\u001b[0m\u001b[0;34m-\u001b[0m\u001b[0;36m1\u001b[0m\u001b[0;34m]\u001b[0m\u001b[0;34m\u001b[0m\u001b[0;34m\u001b[0m\u001b[0m\n\u001b[1;32m     16\u001b[0m     \u001b[0mdf\u001b[0m \u001b[0;34m=\u001b[0m \u001b[0mdf\u001b[0m\u001b[0;34m[\u001b[0m\u001b[0;34m'trade_price'\u001b[0m\u001b[0;34m]\u001b[0m\u001b[0;34m\u001b[0m\u001b[0;34m\u001b[0m\u001b[0m\n",
      "\u001b[0;31mIndexError\u001b[0m: list index out of range"
     ]
    }
   ],
   "source": [
    "import pandas as pd\n",
    "import pyupbit\n",
    "from Get_allassistant import get_assistant\n",
    "from GetCandle import get_candle\n",
    "import matplotlib as plt\n",
    "\n",
    "indicator_data = get_assistant('KRW-BTC', '30', '200', 2)\n",
    "candle_datas = []\n",
    "candle_data = get_candle('KRW-BTC', '30', '200')\n",
    "\n",
    "def get_macd(candle_datas, loop_cnt):\n",
    "    macd_list = []\n",
    " \n",
    "    df = pd.DataFrame(candle_datas[0])\n",
    "    df = df.iloc[::-1]\n",
    "    df = df['trade_price']\n",
    "\n",
    "    exp1 = df.ewm(span=12, adjust=False).mean()\n",
    "    exp2 = df.ewm(span=26, adjust=False).mean()\n",
    "    macd = exp1 - exp2\n",
    "    exp3 = macd.ewm(span=9, adjust=False).mean()\n",
    " \n",
    "    for i in range(0, int(loop_cnt)):\n",
    "        macd_list.append(\n",
    "            {\"type\": \"MACD\", \"DT\": candle_datas[0][i]['candle_date_time_kst'], \"MACD\": round(macd[i], 4),\n",
    "            \"SIGNAL\": round(exp3[i], 4),\n",
    "            \"OCL\": round(macd[i] - exp3[i], 4)})\n",
    " \n",
    "    return macd_list\n",
    "\n",
    "df = get_macd(candle_datas, 2)\n",
    "plt.plot(df)\n",
    "plt.show()\n",
    "\n"
   ]
  },
  {
   "cell_type": "code",
   "execution_count": null,
   "metadata": {},
   "outputs": [],
   "source": []
  },
  {
   "cell_type": "code",
   "execution_count": null,
   "metadata": {},
   "outputs": [],
   "source": []
  },
  {
   "cell_type": "code",
   "execution_count": null,
   "metadata": {},
   "outputs": [
    {
     "name": "stdout",
     "output_type": "stream",
     "text": [
      "0.2 1.4366204077971814\n",
      "0.21 1.448010987598862\n"
     ]
    },
    {
     "ename": "TypeError",
     "evalue": "upbit_backTesting() missing 1 required positional argument: 'K'",
     "output_type": "error",
     "traceback": [
      "\u001b[0;31m---------------------------------------------------------------------------\u001b[0m",
      "\u001b[0;31mTypeError\u001b[0m                                 Traceback (most recent call last)",
      "\u001b[0;32m/var/folders/xv/2d5zz0ls0lddjzncj7dlzlzw0000gn/T/ipykernel_4046/1982508398.py\u001b[0m in \u001b[0;36m<module>\u001b[0;34m\u001b[0m\n\u001b[1;32m     73\u001b[0m \u001b[0mjson1\u001b[0m \u001b[0;34m=\u001b[0m \u001b[0mget_best_k\u001b[0m\u001b[0;34m(\u001b[0m\u001b[0;34m\"KRW-BTC\"\u001b[0m\u001b[0;34m,\u001b[0m \u001b[0;36m100\u001b[0m\u001b[0;34m,\u001b[0m \u001b[0;34m'20211108'\u001b[0m\u001b[0;34m)\u001b[0m\u001b[0;34m\u001b[0m\u001b[0;34m\u001b[0m\u001b[0m\n\u001b[1;32m     74\u001b[0m \u001b[0;34m\u001b[0m\u001b[0m\n\u001b[0;32m---> 75\u001b[0;31m \u001b[0mupbit_backTesting\u001b[0m\u001b[0;34m(\u001b[0m\u001b[0;34m\"KRW-BTC\"\u001b[0m\u001b[0;34m,\u001b[0m \u001b[0;36m10\u001b[0m\u001b[0;34m,\u001b[0m \u001b[0;34m'20210301'\u001b[0m\u001b[0;34m)\u001b[0m\u001b[0;34m\u001b[0m\u001b[0;34m\u001b[0m\u001b[0m\n\u001b[0m",
      "\u001b[0;31mTypeError\u001b[0m: upbit_backTesting() missing 1 required positional argument: 'K'"
     ]
    }
   ],
   "source": [
    "import pyupbit\n",
    "import numpy as np\n",
    "import json\n",
    "import time\n",
    "\n",
    "def upbit_backTesting(coin, range, day, K):\n",
    "    k = K\n",
    "    df = pyupbit.get_ohlcv(coin, count = range, period=1, to=day)\n",
    "    df['range'] = (df['high'] - df['low']) * k\n",
    "    df['target'] = df['open'] + df['range'].shift(1)\n",
    "    fee = 0.0005\n",
    "    df['ror'] = np.where(df['high'] > df['target'],\n",
    "                        df['close'] / df['target'] - fee,\n",
    "                        1)\n",
    "    df['hpr'] = df['ror'].cumprod()\n",
    "    df['dd'] = (df['hpr'].cummax() - df['hpr']) / df['hpr'].cummax() * 100\n",
    "    result = []\n",
    "    result = df['open']\n",
    "    return strToJson(df)\n",
    "\n",
    "def strToJson(df):\n",
    "    dict1 = {\"test\":[], \"MDD\":\"\"}\n",
    "    for i in range(len(df)):\n",
    "        temp = {}\n",
    "        for j in df:\n",
    "            key = j\n",
    "            value = str(df[j][i])\n",
    "            temp[key] = value\n",
    "        strr = df.index[i]\n",
    "        temp['datetime'] = str(strr)[5:-3]\n",
    "        dict1['test'].append(temp)\n",
    "    dict1['MDD'] = df['dd'].max()\n",
    "    json_val = json.dumps(dict1, default=str)\n",
    "    return json_val \n",
    "\n",
    "def get_tickers():\n",
    "    return pyupbit.get_tickers(fiat=\"KRW\")\n",
    "\n",
    "def get_best_k(coin, range, day):\n",
    "    best_ror = 0\n",
    "    best_k = 0\n",
    "    for k in np.arange(0.1, 1.0, 0.1):\n",
    "        ror = get_ror(coin, range, day, k)\n",
    "        if best_ror < ror:\n",
    "            best_ror = ror\n",
    "            best_k = k\n",
    "\n",
    "    print(best_k, best_ror)    \n",
    "    time.sleep(5)\n",
    "    for k in np.arange(best_k, (best_k + 0.09), 0.01):\n",
    "        temp_k = round(k,3)\n",
    "        ror2 = get_ror(coin, range, day, temp_k)\n",
    "\n",
    "        if best_ror < ror2:\n",
    "            best_ror = ror2\n",
    "            best_k = temp_k\n",
    "    \n",
    "    print(best_k, best_ror) \n",
    "\n",
    "def get_ror(coin, range, day, k):\n",
    "    df = pyupbit.get_ohlcv(coin, count = range, period=1, to=day)\n",
    "    df['range'] = (df['high'] - df['low']) * k\n",
    "    df['target'] = df['open'] + df['range'].shift(1)\n",
    " \n",
    "    fee = 0.0005\n",
    "    df['ror'] = np.where(df['high'] > df['target'],\n",
    "                        df['close'] / df['target'] - fee,\n",
    "                        1)\n",
    " \n",
    "    ror = df['ror'].cumprod()[-2]\n",
    "    return ror\n",
    "\n",
    "json1 = get_best_k(\"KRW-BTC\", 100, '20211108')\n",
    "\n",
    "upbit_backTesting(\"KRW-BTC\", 10, '20210301')"
   ]
  }
 ],
 "metadata": {
  "interpreter": {
   "hash": "8ad6e45d202b6c5545b8d24c6b9a925d56903008c047fb14c15a8e24d9fd4fd6"
  },
  "kernelspec": {
   "display_name": "Python 3.9.9 64-bit ('torch': pyenv)",
   "language": "python",
   "name": "python3"
  },
  "language_info": {
   "codemirror_mode": {
    "name": "ipython",
    "version": 3
   },
   "file_extension": ".py",
   "mimetype": "text/x-python",
   "name": "python",
   "nbconvert_exporter": "python",
   "pygments_lexer": "ipython3",
   "version": "3.9.9"
  },
  "orig_nbformat": 4
 },
 "nbformat": 4,
 "nbformat_minor": 2
}
