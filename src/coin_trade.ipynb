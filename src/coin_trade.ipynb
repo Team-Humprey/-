{
 "cells": [
  {
   "cell_type": "code",
   "execution_count": 1,
   "metadata": {},
   "outputs": [
    {
     "name": "stdout",
     "output_type": "stream",
     "text": [
      "{'market': 'KRW-BTC', 'korean_name': '비트코인', 'english_name': 'Bitcoin'}\n"
     ]
    }
   ],
   "source": [
    "#테스트 끝나면 py코드로 바꿀 예정\n",
    "\n",
    "import requests \n",
    "url = \"https://api.upbit.com/v1/market/all\" \n",
    "querystring = {\"isDetails\":\"false\"} \n",
    "response = requests.request(\"GET\", url, params=querystring) \n",
    "\n",
    "print(response.json()[0])"
   ]
  },
  {
   "cell_type": "code",
   "execution_count": 90,
   "metadata": {},
   "outputs": [
    {
     "name": "stdout",
     "output_type": "stream",
     "text": [
      "환경변수오류. 환경변수를 바꾸고 다시 실행하거나 set_login_key()를 실행해주세요\n",
      "로그인 오류. set_login_key를 다시 해주세요\n"
     ]
    },
    {
     "ename": "AttributeError",
     "evalue": "'coin_trade' object has no attribute 'login'",
     "output_type": "error",
     "traceback": [
      "\u001b[1;31m---------------------------------------------------------------------------\u001b[0m",
      "\u001b[1;31mAttributeError\u001b[0m                            Traceback (most recent call last)",
      "\u001b[1;32m<ipython-input-90-a41e6d5f508e>\u001b[0m in \u001b[0;36m<module>\u001b[1;34m\u001b[0m\n\u001b[0;32m    109\u001b[0m \u001b[1;33m\u001b[0m\u001b[0m\n\u001b[0;32m    110\u001b[0m \u001b[0mct\u001b[0m \u001b[1;33m=\u001b[0m \u001b[0mcoin_trade\u001b[0m\u001b[1;33m(\u001b[0m\u001b[1;33m)\u001b[0m\u001b[1;33m\u001b[0m\u001b[1;33m\u001b[0m\u001b[0m\n\u001b[1;32m--> 111\u001b[1;33m \u001b[0mprint\u001b[0m\u001b[1;33m(\u001b[0m\u001b[0mct\u001b[0m\u001b[1;33m.\u001b[0m\u001b[0mget_KRW\u001b[0m\u001b[1;33m(\u001b[0m\u001b[1;33m)\u001b[0m\u001b[1;33m)\u001b[0m\u001b[1;33m\u001b[0m\u001b[1;33m\u001b[0m\u001b[0m\n\u001b[0m\u001b[0;32m    112\u001b[0m \u001b[0mct\u001b[0m\u001b[1;33m.\u001b[0m\u001b[0mget_current_price\u001b[0m\u001b[1;33m(\u001b[0m\u001b[1;33m)\u001b[0m\u001b[1;33m\u001b[0m\u001b[1;33m\u001b[0m\u001b[0m\n\u001b[0;32m    113\u001b[0m \u001b[0mct\u001b[0m\u001b[1;33m.\u001b[0m\u001b[0mset_coin_key\u001b[0m\u001b[1;33m(\u001b[0m\u001b[1;34m\"KRW-DOGE\"\u001b[0m\u001b[1;33m)\u001b[0m\u001b[1;33m\u001b[0m\u001b[1;33m\u001b[0m\u001b[0m\n",
      "\u001b[1;32m<ipython-input-90-a41e6d5f508e>\u001b[0m in \u001b[0;36mget_KRW\u001b[1;34m(self)\u001b[0m\n\u001b[0;32m     51\u001b[0m     \u001b[1;31m# 한화 잔고 조회\u001b[0m\u001b[1;33m\u001b[0m\u001b[1;33m\u001b[0m\u001b[1;33m\u001b[0m\u001b[0m\n\u001b[0;32m     52\u001b[0m     \u001b[1;32mdef\u001b[0m \u001b[0mget_KRW\u001b[0m\u001b[1;33m(\u001b[0m\u001b[0mself\u001b[0m\u001b[1;33m)\u001b[0m\u001b[1;33m:\u001b[0m\u001b[1;33m\u001b[0m\u001b[1;33m\u001b[0m\u001b[0m\n\u001b[1;32m---> 53\u001b[1;33m         \u001b[1;32mreturn\u001b[0m \u001b[0mself\u001b[0m\u001b[1;33m.\u001b[0m\u001b[0mget_balance\u001b[0m\u001b[1;33m(\u001b[0m\u001b[1;34m\"KRW\"\u001b[0m\u001b[1;33m)\u001b[0m\u001b[1;33m\u001b[0m\u001b[1;33m\u001b[0m\u001b[0m\n\u001b[0m\u001b[0;32m     54\u001b[0m \u001b[1;33m\u001b[0m\u001b[0m\n\u001b[0;32m     55\u001b[0m     \u001b[1;31m# 간단한 변동성 돌파 전략으로 매수 목표가 조회\u001b[0m\u001b[1;33m\u001b[0m\u001b[1;33m\u001b[0m\u001b[1;33m\u001b[0m\u001b[0m\n",
      "\u001b[1;32m<ipython-input-90-a41e6d5f508e>\u001b[0m in \u001b[0;36mget_balance\u001b[1;34m(self, ticker)\u001b[0m\n\u001b[0;32m     40\u001b[0m     \u001b[1;31m# 잔고 조회\u001b[0m\u001b[1;33m\u001b[0m\u001b[1;33m\u001b[0m\u001b[1;33m\u001b[0m\u001b[0m\n\u001b[0;32m     41\u001b[0m     \u001b[1;32mdef\u001b[0m \u001b[0mget_balance\u001b[0m\u001b[1;33m(\u001b[0m\u001b[0mself\u001b[0m\u001b[1;33m,\u001b[0m \u001b[0mticker\u001b[0m\u001b[1;33m)\u001b[0m\u001b[1;33m:\u001b[0m\u001b[1;33m\u001b[0m\u001b[1;33m\u001b[0m\u001b[0m\n\u001b[1;32m---> 42\u001b[1;33m         \u001b[0mbalances\u001b[0m \u001b[1;33m=\u001b[0m \u001b[0mself\u001b[0m\u001b[1;33m.\u001b[0m\u001b[0mlogin\u001b[0m\u001b[1;33m.\u001b[0m\u001b[0mget_balances\u001b[0m\u001b[1;33m(\u001b[0m\u001b[1;33m)\u001b[0m\u001b[1;33m\u001b[0m\u001b[1;33m\u001b[0m\u001b[0m\n\u001b[0m\u001b[0;32m     43\u001b[0m         \u001b[1;32mfor\u001b[0m \u001b[0mb\u001b[0m \u001b[1;32min\u001b[0m \u001b[0mbalances\u001b[0m\u001b[1;33m:\u001b[0m\u001b[1;33m\u001b[0m\u001b[1;33m\u001b[0m\u001b[0m\n\u001b[0;32m     44\u001b[0m             \u001b[1;32mif\u001b[0m \u001b[0mb\u001b[0m\u001b[1;33m[\u001b[0m\u001b[1;34m'currency'\u001b[0m\u001b[1;33m]\u001b[0m \u001b[1;33m==\u001b[0m \u001b[0mticker\u001b[0m\u001b[1;33m:\u001b[0m\u001b[1;33m\u001b[0m\u001b[1;33m\u001b[0m\u001b[0m\n",
      "\u001b[1;31mAttributeError\u001b[0m: 'coin_trade' object has no attribute 'login'"
     ]
    }
   ],
   "source": [
    "import time \n",
    "import pyupbit\n",
    "import pandas as pd\n",
    "import datetime\n",
    "import os\n",
    "\n",
    "class coin_trade:\n",
    "    # 생성자\n",
    "    def __init__(self):\n",
    "        try:\n",
    "            access = os.environ['UPBIT_OPEN_API_ACCESS_KEY']\n",
    "            secret = os.environ['UPBIT_OPEN_API_SECRET_KEY']\n",
    "            self.login = pyupbit.Upbit(access, secret)\n",
    "        except:\n",
    "            print(\"환경변수오류. 환경변수를 바꾸고 다시 실행하거나 set_login_key()를 실행해주세요\")    \n",
    "        try:\n",
    "            balance_df = pd.DataFrame(self.login.get_balances()) # 암호화폐 잔고 조회\n",
    "            print(balance_df) \n",
    "        except:\n",
    "            print(\"로그인 오류. set_login_key를 다시 해주세요\")\n",
    "\n",
    "    # 로그인 실패시 새로운 키 설정\n",
    "    def set_login_key(self, accessKey, secretKey):\n",
    "        access = accessKey\n",
    "        secret = secretKey\n",
    "        self.login = pyupbit.Upbit(access, secret)\n",
    "        try:\n",
    "            balance_df = pd.DataFrame(self.login.get_balances()) # 암호화폐 잔고 조회\n",
    "            print(balance_df) \n",
    "            return 0\n",
    "        except:\n",
    "            print(\"로그인 오류. set_login_key를 다시 해주세요\")\n",
    "            return 1\n",
    "\n",
    "    # 코인 종목 변경. 디폴트는 KRW-BTC (비트코인)\n",
    "    def set_coin_key(self, coinName):\n",
    "        self.coinKey = coinName\n",
    "\n",
    "\n",
    "    # 잔고 조회\n",
    "    def get_balance(self, ticker):\n",
    "        balances = self.login.get_balances()\n",
    "        for b in balances:\n",
    "            if b['currency'] == ticker:\n",
    "                if b['balance'] is not None:\n",
    "                    return float(b['balance'])\n",
    "                else:\n",
    "                    return 0\n",
    "        return 0\n",
    "\n",
    "    # 한화 잔고 조회   \n",
    "    def get_KRW(self):\n",
    "        return self.get_balance(\"KRW\")\n",
    "\n",
    "    # 간단한 변동성 돌파 전략으로 매수 목표가 조회\n",
    "    def get_target_price(self, k):\n",
    "        ticker = self.coinKey\n",
    "        df = pyupbit.get_ohlcv(ticker, interval=\"day\", count=2)\n",
    "        target_price = df.iloc[0]['close'] + (df.iloc[0]['high'] - df.iloc[0]['low']) * k\n",
    "        return target_price\n",
    "\n",
    "    # 시작 시간 조회\n",
    "    def get_start_time(self):\n",
    "        ticker = self.coinKey\n",
    "        df = pyupbit.get_ohlcv(ticker, interval=\"day\", count=1)\n",
    "        start_time = df.index[0]\n",
    "        return start_time\n",
    "\n",
    "    \n",
    "    # 현재가 조회\n",
    "    def get_current_price(self):\n",
    "        ticker = self.coinKey\n",
    "        return pyupbit.get_orderbook(ticker=ticker)[\"orderbook_units\"][0][\"ask_price\"]\n",
    "\n",
    "    # 코인 사기 (가격)\n",
    "    def buy_coin(self, price):\n",
    "        self.login.buy_market_order(self.coinKey, price)\n",
    "\n",
    "    # 코인 팔기 (가격)\n",
    "    def sell_coin(self, price):\n",
    "        self.login.buy_market_order(self.coinKey, price)\n",
    "\n",
    "    # 간단한 봇 예시\n",
    "    def start_bot(self):\n",
    "            \n",
    "        while True:\n",
    "            try:\n",
    "                now = datetime.datetime.now()\n",
    "                start_time = self.get_start_time()\n",
    "                end_time = start_time + datetime.timedelta(days=1)\n",
    "\n",
    "                if start_time < now < end_time - datetime.timedelta(seconds=10):\n",
    "                    target_price = self.get_target_price(0.5)\n",
    "                    current_price = self.get_current_price()\n",
    "                    if target_price < current_price:\n",
    "                        krw = self.get_KRW()\n",
    "                        if krw > 5000:\n",
    "                            self.buy_coin(krw*0.9995)\n",
    "                            print(\"bought\", self.coinKey,\"with\", krw*0.9995 )\n",
    "                else:\n",
    "                    btc = self.get_balance(\"BTC\")\n",
    "                    if btc > 0.00008:\n",
    "                        self.sell_coin(btc*0.9995)\n",
    "                        print(\"selled\", self.coinKey,\"for\", btc*0.9995 )\n",
    "                time.sleep(1)\n",
    "            except Exception as e:\n",
    "                print(e)\n",
    "                time.sleep(1)\n",
    "\n",
    "ct = coin_trade()\n",
    "print(ct.get_KRW())\n",
    "ct.get_current_price()\n",
    "ct.set_coin_key(\"KRW-DOGE\")\n",
    "ct.get_current_price()\n",
    "ct.start_bot()"
   ]
  },
  {
   "cell_type": "markdown",
   "metadata": {},
   "source": []
  }
 ],
 "metadata": {
  "interpreter": {
   "hash": "f7b6bb42013a5637481957308d5a7306471b0750c3dc1fade55b6a2f7e8aac12"
  },
  "kernelspec": {
   "display_name": "Python 3.6.8 64-bit",
   "name": "python3"
  },
  "language_info": {
   "codemirror_mode": {
    "name": "ipython",
    "version": 3
   },
   "file_extension": ".py",
   "mimetype": "text/x-python",
   "name": "python",
   "nbconvert_exporter": "python",
   "pygments_lexer": "ipython3",
   "version": "3.7.4"
  }
 },
 "nbformat": 4,
 "nbformat_minor": 2
}
